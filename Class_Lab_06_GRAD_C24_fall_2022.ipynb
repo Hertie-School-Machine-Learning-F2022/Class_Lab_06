{
  "cells": [
    {
      "cell_type": "markdown",
      "metadata": {
        "id": "view-in-github",
        "colab_type": "text"
      },
      "source": [
        "<a href=\"https://colab.research.google.com/github/Hertie-School-Machine-Learning-F2022/Class_Lab_06/blob/main/Class_Lab_06_GRAD_C24_fall_2022.ipynb\" target=\"_parent\"><img src=\"https://colab.research.google.com/assets/colab-badge.svg\" alt=\"Open In Colab\"/></a>"
      ]
    },
    {
      "cell_type": "markdown",
      "source": [
        "# Classification \n",
        "\n",
        "## GRAD-C24 - Lab 06\n",
        "\n",
        "## Lab TA: Paulina Garcia Corral\n",
        "\n",
        "In this lab we will see what classification is and how to evaluate a classification model using sklearn.\n",
        "\n",
        "Class and code adapted from [KVSSetty](https://github.com/KVSSetty/ml-notebooks/blob/master/Plot%20a%20Decision%20Surface%20for%20Machine%20Learning%20Algorithms%20in%20Python/Plot%20a%20Decision%20Surface%20for%20Machine%20Learning%20Algorithms%20in%20Python.ipynb) and [SKLearn mooc course](https://github.com/INRIA/scikit-learn-mooc)"
      ],
      "metadata": {
        "id": "OulWooU13tOI"
      }
    },
    {
      "cell_type": "markdown",
      "source": [
        "Classification is a ML task that, unlike prediction, needs a categorical target variable.\n",
        "\n",
        "What are some examples of categorical target values?"
      ],
      "metadata": {
        "id": "K1zATHWI1Kkm"
      }
    },
    {
      "cell_type": "markdown",
      "source": [
        "Last week, we saw how the linear regression model uses the linear equation to calculate predicted values of y. \n",
        "\n",
        "Logistic Regression has a similar application, but instead of predicting a numerical or continous target, the model calculates a probability based on the logit, and if that predicted probability is above or below a certain threshold (usualy, 0.5) the values are classified as belonging to a class or not (in binary). "
      ],
      "metadata": {
        "id": "CSQuWoyS4pBO"
      }
    },
    {
      "cell_type": "code",
      "source": [
        "# We will use the following libraries for this exercise \n",
        "from google.colab import files\n",
        "import io\n",
        "import numpy as np\n",
        "import pandas as pd\n",
        "import matplotlib.pyplot as plt\n",
        "%matplotlib inline\n",
        "import seaborn as sns"
      ],
      "metadata": {
        "id": "n_dzxKCxo8Ah"
      },
      "execution_count": null,
      "outputs": []
    },
    {
      "cell_type": "markdown",
      "source": [
        "As a first example, we will work with pinguin data that is available in the github page.\n",
        "\n",
        "The purpose of this demostration is to classify penguin species based on the dimensions of their beak, or for penguins, 'Culmen'."
      ],
      "metadata": {
        "id": "1YDV-g8GxO7U"
      }
    },
    {
      "cell_type": "code",
      "execution_count": null,
      "metadata": {
        "id": "quVpm9t13RQ-"
      },
      "outputs": [],
      "source": [
        "# Load the dataset called penguins_classification.csv\n",
        "uploaded = files.upload()\n",
        "penguins = pd.read_csv(io.BytesIO(uploaded['penguins_classification.csv']))"
      ]
    },
    {
      "cell_type": "code",
      "source": [
        "# Rename data \n",
        "\n",
        "\n",
        "# and inspect it \n"
      ],
      "metadata": {
        "id": "J03j-T6HsdrE"
      },
      "execution_count": null,
      "outputs": []
    },
    {
      "cell_type": "markdown",
      "source": [
        "To simplify this model, we will only use two penguin species (hence turning this into a binary classification problem). \n"
      ],
      "metadata": {
        "id": "P_TQNZAd5U8w"
      }
    },
    {
      "cell_type": "code",
      "execution_count": null,
      "metadata": {
        "id": "s4tghpoyGMjp"
      },
      "outputs": [],
      "source": [
        "# Subset the dataframe to only the species Adelie and Chinstrap\n",
        "\n"
      ]
    },
    {
      "cell_type": "code",
      "source": [
        "# Inspect the data again\n",
        "\n"
      ],
      "metadata": {
        "id": "5PvlfWf20tJ1"
      },
      "execution_count": null,
      "outputs": []
    },
    {
      "cell_type": "markdown",
      "source": [
        "Let's see how the data is separeted by species according to features  'lenght' and 'depth' of the culmen (beak)"
      ],
      "metadata": {
        "id": "j9l4cxw750q0"
      }
    },
    {
      "cell_type": "code",
      "source": [
        "# scatter plot using lenght and depth as axis and color as species\n",
        "\n"
      ],
      "metadata": {
        "id": "V2OizrNBhU8M"
      },
      "execution_count": null,
      "outputs": []
    },
    {
      "cell_type": "markdown",
      "source": [
        "We can observe that the x-axis is very well separeted, but the y-axis is not."
      ],
      "metadata": {
        "id": "i5yI97Na588y"
      }
    },
    {
      "cell_type": "code",
      "source": [
        "# Plot two histograms (one per feature) separeted my species to further explore\n",
        "# how the features behave. \n",
        "\n"
      ],
      "metadata": {
        "id": "_Q2MstgB0A31"
      },
      "execution_count": null,
      "outputs": []
    },
    {
      "cell_type": "markdown",
      "source": [
        "We can see that lenght is much more informative than depth. Why is this? "
      ],
      "metadata": {
        "id": "MTPVciao6Tfy"
      }
    },
    {
      "cell_type": "markdown",
      "source": [
        "We will now model and visualize to take better understand what Logistic Regression does as a ML model. "
      ],
      "metadata": {
        "id": "durp_xhy6Zcx"
      }
    },
    {
      "cell_type": "code",
      "source": [
        "# We will now set the species name to 0 and 1\n",
        "\n",
        "\n",
        "\n",
        "# Remember that Adelie species is 0, Chinstrap species is 1"
      ],
      "metadata": {
        "id": "7VQl64cjpchg"
      },
      "execution_count": null,
      "outputs": []
    },
    {
      "cell_type": "code",
      "source": [
        "# This is what our data looks like right now \n",
        "\n"
      ],
      "metadata": {
        "id": "-fVojy-xwe1O"
      },
      "execution_count": null,
      "outputs": []
    },
    {
      "cell_type": "code",
      "source": [
        "# Let's rearrange our data into numpy arrays and set X and y \n"
      ],
      "metadata": {
        "id": "j7QMBK8Ns6at"
      },
      "execution_count": null,
      "outputs": []
    },
    {
      "cell_type": "code",
      "source": [
        "# We can know do the sklearn steps that we already know!\n",
        "\n",
        "from sklearn.linear_model import LogisticRegression\n",
        "from sklearn.metrics import accuracy_score\n",
        "\n",
        "# Set model\n",
        "\n",
        "\n",
        "# Fit\n",
        "\n",
        "\n",
        "# Predict\n",
        "\n",
        "# Evaluate\n"
      ],
      "metadata": {
        "id": "x6xRe276pJsB"
      },
      "execution_count": null,
      "outputs": []
    },
    {
      "cell_type": "markdown",
      "source": [
        "Ok, but, what does this mean?"
      ],
      "metadata": {
        "id": "NyPFx_I366HH"
      }
    },
    {
      "cell_type": "code",
      "source": [
        "# Decision surface for binary classification Logistic Regression\n",
        "\n",
        "# define bounds of the domain\n",
        "min1, max1 = X[:, 0].min()-1, X[:, 0].max()+1\n",
        "min2, max2 = X[:, 1].min()-1, X[:, 1].max()+1\n",
        "\n",
        "# define the x and y scale\n",
        "x1grid = np.arange(min1, max1, 0.1)\n",
        "x2grid = np.arange(min2, max2, 0.1)\n",
        "\n",
        "# create all of the lines and rows of the grid\n",
        "xx, yy = np.meshgrid(x1grid, x2grid)\n",
        "\n",
        "# flatten each grid to a vector\n",
        "r1, r2 = xx.flatten(), yy.flatten()\n",
        "r1, r2 = r1.reshape((len(r1), 1)), r2.reshape((len(r2), 1))\n",
        "\n",
        "# horizontal stack vectors to create x1,x2 input for the model\n",
        "grid = np.hstack((r1,r2))\n",
        "\n",
        "# define the model\n",
        "model = LogisticRegression()\n",
        "\n",
        "# fit the model\n",
        "model.fit(X, y)\n",
        "# make predictions for the grid\n",
        "\n",
        "y_pred = model.predict(grid)\n",
        "\n",
        "# reshape the predictions back into a grid\n",
        "zz = y_pred.reshape(xx.shape)\n",
        "\n",
        "# plot the grid of x, y and z values as a surface\n",
        "plt.contourf(xx, yy, zz, cmap='Paired')\n",
        "\n",
        "# create scatter plot for samples from each class\n",
        "for class_value in range(2):\n",
        "    # get row indexes for samples with this class\n",
        "    row_ix = np.where(y == class_value)\n",
        "    # create scatter of these samples\n",
        "    plt.scatter(X[row_ix, 0], X[row_ix, 1], cmap='Paired')"
      ],
      "metadata": {
        "colab": {
          "base_uri": "https://localhost:8080/",
          "height": 265
        },
        "id": "qcBaq3P8pJpN",
        "outputId": "797356e8-d152-4fa4-dcdb-0f40225c55c8"
      },
      "execution_count": null,
      "outputs": [
        {
          "output_type": "display_data",
          "data": {
            "text/plain": [
              "<Figure size 432x288 with 1 Axes>"
            ],
            "image/png": "[encoded data removed]"
          },
          "metadata": {
            "needs_background": "light"
          }
        }
      ]
    },
    {
      "cell_type": "markdown",
      "source": [
        "Further, the prediction here is definit, based on 1 and 0. But the probabilites are not 0% or 100%. The next visualization can better explain how the boundry works. "
      ],
      "metadata": {
        "id": "bpoQaEYo7PBI"
      }
    },
    {
      "cell_type": "code",
      "source": [
        "# plot the grid of x, y and z values as a surface\n",
        "c = plt.contourf(xx, yy, zz, cmap='RdBu')\n",
        "# add a legend, called a color bar\n",
        "plt.colorbar(c)\n",
        "# create scatter plot for samples from each class\n",
        "for class_value in range(2):\n",
        "    # get row indexes for samples with this class\n",
        "    row_ix = np.where(y == class_value)\n",
        "    # create scatter of these samples\n",
        "    plt.scatter(X[row_ix, 0], X[row_ix, 1], cmap='Paired')"
      ],
      "metadata": {
        "colab": {
          "base_uri": "https://localhost:8080/",
          "height": 269
        },
        "id": "1Sbi4GMwvXSn",
        "outputId": "7d9986bc-6591-4245-af9b-bb4f17c42888"
      },
      "execution_count": null,
      "outputs": [
        {
          "output_type": "display_data",
          "data": {
            "text/plain": [
              "<Figure size 432x288 with 2 Axes>"
            ],
            "image/png": "[encoded data removed]"
          },
          "metadata": {
            "needs_background": "light"
          }
        }
      ]
    },
    {
      "cell_type": "markdown",
      "source": [
        "Probability is here the color of the backdrop. The more blue, the closer to 1 (belonging to class chinstrap) the more red, the closer to 0 (not belonging to class chinstrap, which means Adelie).\n",
        "\n",
        "We also see the values of lenght and depth that make the probabilities closer to 1 and 0. Lenght of less than 35 are all red for example. lenghts of more than 50, then all blue. For y, this is not clear (which makes sense with respect to how we saw the data was distributed before).\n",
        "\n",
        "The fact that the line is not straight, means however, that both features have a weight in the boundry. \n",
        "\n",
        "We can also get those exact values and their log odds by looking at the .coef_ and .intercept method of the model. \n",
        "\n",
        "For more information about how logistic regression works form a statistical point of view, please refer to the class book Introduction to Statistical Learning https://www.statlearning.com/"
      ],
      "metadata": {
        "id": "vbT5VXb11P2Z"
      }
    },
    {
      "cell_type": "markdown",
      "source": [
        "# Let's take a look at the metrics now\n",
        "\n",
        "For this we will use the blood transfusions dataset, and we are again using sklearn mooc course code mentioned above, adapted for this class"
      ],
      "metadata": {
        "id": "rsHcKS_3IjdZ"
      }
    },
    {
      "cell_type": "code",
      "source": [
        "# Load and save the dataset available in github by the same name\n",
        "uploaded = files.upload()\n",
        "blood_transfusion = pd.read_csv(io.BytesIO(uploaded['blood_transfusion.csv']))"
      ],
      "metadata": {
        "id": "hYHbMzHsKMCL"
      },
      "execution_count": null,
      "outputs": []
    },
    {
      "cell_type": "code",
      "source": [
        "# We will now set data and target \n"
      ],
      "metadata": {
        "id": "f2DDyWC4JUhw"
      },
      "execution_count": null,
      "outputs": []
    },
    {
      "cell_type": "code",
      "source": [
        "# Open X\n"
      ],
      "metadata": {
        "id": "2kjR2HnmLrbs"
      },
      "execution_count": null,
      "outputs": []
    },
    {
      "cell_type": "markdown",
      "source": [
        "There are two classes in the target, if someone donated blood or not. We will use the Logistic Regression model to predict if someone donates or not blood, with the features Recency, Frequency, Monetary and Time"
      ],
      "metadata": {
        "id": "tWx1IUOELZG8"
      }
    },
    {
      "cell_type": "code",
      "source": [
        "# Let's see our classes"
      ],
      "metadata": {
        "id": "nznMBtuOJbYB"
      },
      "execution_count": null,
      "outputs": []
    },
    {
      "cell_type": "code",
      "source": [
        "# We will now set up our training and testing data. \n",
        "\n",
        "from sklearn.model_selection import train_test_split\n"
      ],
      "metadata": {
        "id": "k0iS4LJrJdiD"
      },
      "execution_count": null,
      "outputs": []
    },
    {
      "cell_type": "markdown",
      "source": [
        "To compute the metrics, we need unseen data, right? So in order to keep some data from being used, we will fit the model using only training set. "
      ],
      "metadata": {
        "id": "FypqLePlL4RE"
      }
    },
    {
      "cell_type": "code",
      "source": [
        "# Logistic Regression\n"
      ],
      "metadata": {
        "colab": {
          "base_uri": "https://localhost:8080/"
        },
        "id": "2u7IfDeiJgu_",
        "outputId": "326d2bb9-8506-4247-e053-2a6052f023b9"
      },
      "execution_count": null,
      "outputs": [
        {
          "output_type": "execute_result",
          "data": {
            "text/plain": [
              "LogisticRegression()"
            ]
          },
          "metadata": {},
          "execution_count": 18
        }
      ]
    },
    {
      "cell_type": "markdown",
      "source": [
        "So, as you remember, with a trained or fitted model, the equation coeficients and intercept are calculated, and we can plug in any variables that we want into it. Let's create a fake person named Max Weber. He donated 6 months ago, has been doing this for the last 20 years, donated 5 in the past, and each time 1000 c.c. \n",
        "\n",
        "Is Max Weber likely to donate again?????? "
      ],
      "metadata": {
        "id": "ffU-XDBwMAa7"
      }
    },
    {
      "cell_type": "code",
      "source": [
        "# Max Weber's prediction \n",
        "Max_Weber = pd.DataFrame(\n",
        "    {\n",
        "        \"Recency\": [],\n",
        "        \"Frequency\": [],\n",
        "        \"Monetary\": [],\n",
        "        \"Time\": [],\n",
        "    }\n",
        ")\n",
        "\n",
        "classifier.predict(## )"
      ],
      "metadata": {
        "id": "608oApmnJird"
      },
      "execution_count": null,
      "outputs": []
    },
    {
      "cell_type": "markdown",
      "source": [
        "The model predicted that, no. Max Weber will not donate again. But we do not have any base truth against which we can compare Max Weber to. This is the reason why the unseen classified data is so important! it is our base true that helps us calculate metrics."
      ],
      "metadata": {
        "id": "F9iI0aPsNXAo"
      }
    },
    {
      "cell_type": "code",
      "source": [
        "# Here we predict using our unseen data (X_test)\n"
      ],
      "metadata": {
        "id": "AsITElVuJkSl"
      },
      "execution_count": null,
      "outputs": []
    },
    {
      "cell_type": "code",
      "source": [
        "# And we can compare against the real values!\n",
        "\n"
      ],
      "metadata": {
        "id": "2dJdXyjXJmkr"
      },
      "execution_count": null,
      "outputs": []
    },
    {
      "cell_type": "markdown",
      "source": [
        "# Metrics:\n",
        "\n",
        "## 1. Accuracy\n",
        "\n",
        "One metric to compute an overall rate of the models performance is to compute how many times our classifier was right (predicted and actual value are the same) and divide it by the number of samples in our set.\n",
        "\n",
        "ACC = (TP + TN)/ALL"
      ],
      "metadata": {
        "id": "QscJI8mPN9ow"
      }
    },
    {
      "cell_type": "code",
      "source": [
        "# Accuracy"
      ],
      "metadata": {
        "id": "3deLywzeJpzc"
      },
      "execution_count": null,
      "outputs": []
    },
    {
      "cell_type": "code",
      "source": [
        "# LogisticRegression has .score which computes the accuracy score.\n",
        "# (similar to .coef_ or .intercept_)\n",
        "\n"
      ],
      "metadata": {
        "id": "gu5qIqJlJpw3"
      },
      "execution_count": null,
      "outputs": []
    },
    {
      "cell_type": "markdown",
      "source": [
        "## 2. Confusion Matrix \n",
        "\n",
        "Accuracy is a general score (all the ones that were right), but what if we want to know more details about how the model predicts (finer granularity)? \n",
        "\n",
        "There are different types of errors:\n",
        "-Prediction that a person will give blood but they did not.\n",
        "-Prediction that a person will not give blood but they did.\n"
      ],
      "metadata": {
        "id": "5egepKWYOxrQ"
      }
    },
    {
      "cell_type": "code",
      "source": [
        "# confusion matrix\n",
        "from sklearn.metrics import ConfusionMatrixDisplay\n",
        "\n"
      ],
      "metadata": {
        "id": "II9hJQr2Jpi1"
      },
      "execution_count": null,
      "outputs": []
    },
    {
      "cell_type": "markdown",
      "source": [
        "We can compute metrics that are more specific to the performance of our classifier for certain type of data.\n",
        "\n",
        "For the Positive or 1 we have:\n",
        "\n",
        "-Precision, is defined as TP / (TP + FP) and represents how likely the person actually gave blood when the classifier predicted that they did.\n",
        "\n",
        "Recall, defined as TP / (TP + FN) represents how likley the persons that actually gave blood are identified.\n",
        "\n",
        "Why would this be important? "
      ],
      "metadata": {
        "id": "MyEMMAh7Paf8"
      }
    },
    {
      "cell_type": "code",
      "source": [
        "# Precision and Recall scores\n",
        "\n",
        "from sklearn.metrics import precision_score, recall_score\n",
        "\n"
      ],
      "metadata": {
        "id": "PTslxCYxJpd1"
      },
      "execution_count": null,
      "outputs": []
    },
    {
      "cell_type": "markdown",
      "source": [
        "This classifier mislabeled a lot of people who gave blood as \"not donated\", leading to a very low recall of around 0.1.\n",
        "\n",
        "What's going on? Why is this metric so low while the accuracy remained ok?"
      ],
      "metadata": {
        "id": "kNYuZRkZQAEK"
      }
    },
    {
      "cell_type": "markdown",
      "source": [
        "## 3. Class imbalance"
      ],
      "metadata": {
        "id": "RDWHnn_9JzKJ"
      }
    },
    {
      "cell_type": "code",
      "source": [
        "# Class frequency\n",
        "y_train.value_counts(normalize=True).plot.barh()\n",
        "plt.xlabel(\"Class frequency\")\n",
        "_ = plt.title(\"Class frequency in the training set\")"
      ],
      "metadata": {
        "id": "DGSSx3xZJ1MX"
      },
      "execution_count": null,
      "outputs": []
    },
    {
      "cell_type": "markdown",
      "source": [
        "Clearly there is class imbalance. 'Donated' is less than 1/4 of the data. "
      ],
      "metadata": {
        "id": "J7cSxhAEQNsV"
      }
    },
    {
      "cell_type": "markdown",
      "source": [
        "To illustrate what is happening, we will use a dummy classifier. \n",
        "\n",
        "A dummy classifier is a classifier that will always predict the class as we specify, in this case we select strategy = most_frequent. There is no fiting, no learning\n"
      ],
      "metadata": {
        "id": "13e_ymquQccW"
      }
    },
    {
      "cell_type": "code",
      "source": [
        "# Dummy classifier \n",
        "from sklearn.dummy import DummyClassifier\n",
        "\n"
      ],
      "metadata": {
        "id": "H9gKIaYYJ3GP"
      },
      "execution_count": null,
      "outputs": []
    },
    {
      "cell_type": "markdown",
      "source": [
        "The accuracy using a DC is of 76%. The dummy is just as accurate as our fitted model, by saying that all the data is class not donated!\n",
        "\n",
        "Accuracy then, is not a good metric when we have a class imbalance. Precision and recall might be better metrics to evaluate our model. "
      ],
      "metadata": {
        "id": "wIMANF5qQpmi"
      }
    },
    {
      "cell_type": "markdown",
      "source": [
        "There is also a metric called 'balanced accuracy' which in binary and multiclass classification problems is used to deal with imbalanced datasets.\n",
        "\n",
        "It is defined as the average of recall obtained on each class.\n"
      ],
      "metadata": {
        "id": "e0Y-hKhAQ3kT"
      }
    },
    {
      "cell_type": "code",
      "source": [
        "# Balanced accuracy\n",
        "from sklearn.metrics import balanced_accuracy_score\n"
      ],
      "metadata": {
        "id": "sT8HjhrjJ6AL"
      },
      "execution_count": null,
      "outputs": []
    },
    {
      "cell_type": "markdown",
      "source": [
        "We see a balanced accuracy of around 50%. So quite close to a coin flip."
      ],
      "metadata": {
        "id": "tOrl8u2NRhfp"
      }
    },
    {
      "cell_type": "markdown",
      "source": [
        "# Probability thresholds"
      ],
      "metadata": {
        "id": "TGSiNxjyRyBO"
      }
    },
    {
      "cell_type": "markdown",
      "source": [
        "How is the label decided? There is a probability associated with the prediction, with by default is 0.50 in a binary classification problem. "
      ],
      "metadata": {
        "id": "hhrtBjyEUeZV"
      }
    },
    {
      "cell_type": "code",
      "source": [
        "# But we can actually see what the calculated probabilites are\n",
        "\n"
      ],
      "metadata": {
        "id": "EYUek_ciJ84p"
      },
      "execution_count": null,
      "outputs": []
    },
    {
      "cell_type": "code",
      "source": [
        "# And based on that, how the labeled was assigned.\n",
        "\n"
      ],
      "metadata": {
        "id": "U527k4CsJ9_m"
      },
      "execution_count": null,
      "outputs": []
    },
    {
      "cell_type": "code",
      "source": [
        "equivalence_pred_proba = (\n",
        "    target_proba_predicted.idxmax(axis=1).to_numpy() == target_predicted)\n",
        "np.all(equivalence_pred_proba)"
      ],
      "metadata": {
        "id": "Ryr4Mr8FJ98-"
      },
      "execution_count": null,
      "outputs": []
    },
    {
      "cell_type": "markdown",
      "source": [
        "Sometimes, the 50/50 threshold is not the best for the classification problem we are trying to model. The good news is that we can change the threshold, and recalculate statistics. \n",
        "\n",
        "We can plot recall and precision on a graph: "
      ],
      "metadata": {
        "id": "zqvXJStDU0FH"
      }
    },
    {
      "cell_type": "code",
      "source": [
        "from sklearn.metrics import PrecisionRecallDisplay\n",
        "\n",
        "disp = PrecisionRecallDisplay.from_estimator(\n",
        "    classifier, X_test, y_test, pos_label='donated',\n",
        "    marker=\"+\"\n",
        ")\n",
        "disp = PrecisionRecallDisplay.from_estimator(\n",
        "    dummy_classifier, X_test, y_test, pos_label='donated',\n",
        "    color=\"tab:orange\", linestyle=\"--\", ax=disp.ax_)\n",
        "plt.xlabel(\"Recall (also known as TPR or sensitivity)\")\n",
        "plt.ylabel(\"Precision (also known as PPV)\")\n",
        "plt.xlim(0, 1)\n",
        "plt.ylim(0, 1)\n",
        "plt.legend(bbox_to_anchor=(1.05, 0.8), loc=\"upper left\")\n",
        "_ = disp.ax_.set_title(\"Precision-recall curve\")"
      ],
      "metadata": {
        "colab": {
          "base_uri": "https://localhost:8080/",
          "height": 295
        },
        "id": "5lowvDD9J963",
        "outputId": "2b430626-2441-4ad5-8d6d-322ac74ebff9"
      },
      "execution_count": null,
      "outputs": [
        {
          "output_type": "display_data",
          "data": {
            "text/plain": [
              "<Figure size 432x288 with 1 Axes>"
            ],
            "image/png": "[encoded data removed]"
          },
          "metadata": {
            "needs_background": "light"
          }
        }
      ]
    },
    {
      "cell_type": "markdown",
      "source": [
        "Each blue cross corresponds to a probability value which we used as a decision threshold.\n",
        "\n",
        "We can see that, by varying this decision threshold, we get different precision vs. recall values.\n",
        "\n",
        "A perfect classifier would have a precision of 1 for all recall values. The average precision (AP) is the area under the curve. With an ideal classifier, the average precision would be 1.\n",
        "\n",
        "Notice that the AP of a DummyClassifier coincides with the proportion of number of the positive class in the sample (this number is called the prevalence of the positive class)."
      ],
      "metadata": {
        "id": "O8g7XGuAVKRf"
      }
    },
    {
      "cell_type": "code",
      "source": [
        "\n",
        "prevalence = (\n",
        "    y_test.value_counts()[1] / y_test.value_counts().sum()\n",
        ")\n",
        "print(f\"Prevalence of the class 'donated': {prevalence:.2f}\")"
      ],
      "metadata": {
        "colab": {
          "base_uri": "https://localhost:8080/"
        },
        "id": "YxZsAIJGJ91s",
        "outputId": "ab6e0063-dc8a-4906-c806-c3a98e236360"
      },
      "execution_count": null,
      "outputs": [
        {
          "output_type": "stream",
          "name": "stdout",
          "text": [
            "Prevalence of the class 'donated': 0.24\n"
          ]
        }
      ]
    },
    {
      "cell_type": "markdown",
      "source": [
        "The precision and recall metric focuses on the positive class, however, one might be interested in the compromise between accurately discriminating the positive class and accurately discriminating the negative classes.\n",
        "\n",
        "The statistics used for this are recall (or sensitivity) and specificity.\n",
        "\n",
        "Specificity: TN / (TN + FP).\n",
        "\n",
        "Similar to the precision-recall curve, sensitivity and specificity are generally plotted as a curve called the Receiver Operating Characteristic (ROC) curve."
      ],
      "metadata": {
        "id": "_fyigBpCWRGB"
      }
    },
    {
      "cell_type": "code",
      "source": [
        "from sklearn.metrics import RocCurveDisplay\n",
        "\n",
        "disp = RocCurveDisplay.from_estimator(\n",
        "    classifier, X_test, y_test, pos_label='donated',\n",
        "    marker=\"+\")\n",
        "disp = RocCurveDisplay.from_estimator(\n",
        "    dummy_classifier, X_test, y_test, pos_label='donated',\n",
        "    color=\"tab:orange\", linestyle=\"--\", ax=disp.ax_)\n",
        "plt.xlabel(\"False positive rate\")\n",
        "plt.ylabel(\"True positive rate\\n(also known as sensitivity or recall)\")\n",
        "plt.xlim(0, 1)\n",
        "plt.ylim(0, 1)\n",
        "plt.legend(bbox_to_anchor=(1.05, 0.8), loc=\"upper left\")\n",
        "_ = disp.ax_.set_title(\"Receiver Operating Characteristic curve\")"
      ],
      "metadata": {
        "colab": {
          "base_uri": "https://localhost:8080/",
          "height": 295
        },
        "id": "R0aQjhFBJ9t3",
        "outputId": "204ff832-e4e3-4c13-dacc-b1ae1442e4ba"
      },
      "execution_count": null,
      "outputs": [
        {
          "output_type": "display_data",
          "data": {
            "text/plain": [
              "<Figure size 432x288 with 1 Axes>"
            ],
            "image/png": "[encoded data removed]"
          },
          "metadata": {
            "needs_background": "light"
          }
        }
      ]
    },
    {
      "cell_type": "markdown",
      "source": [
        "The probability threshold varies for determining prediction and compute the metrics.\n",
        "\n",
        "As with the precision-recall curve, we can compute the area under the ROC (ROC-AUC) to characterize the generalization performance of our classifier.\n",
        "\n",
        "However, it is important to observe that the lower bound of the ROC-AUC is 0.5.\n",
        "\n",
        "The generalization performance of a dummy classifier tells us that even the worst generalization performance obtained will be above this line."
      ],
      "metadata": {
        "id": "SP9r5ZC5YmF7"
      }
    }
  ],
  "metadata": {
    "colab": {
      "provenance": [],
      "authorship_tag": "ABX9TyMcLMYEHv/PxHlNMAbJ3fBd",
      "include_colab_link": true
    },
    "kernelspec": {
      "display_name": "Python 3",
      "name": "python3"
    },
    "language_info": {
      "name": "python"
    }
  },
  "nbformat": 4,
  "nbformat_minor": 0
}